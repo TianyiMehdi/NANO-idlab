{
 "cells": [
  {
   "cell_type": "code",
   "execution_count": 1,
   "metadata": {},
   "outputs": [],
   "source": [
    "import numpy as np\n",
    "from typing import List, Dict\n",
    "from pathlib import Path"
   ]
  },
  {
   "cell_type": "code",
   "execution_count": 3,
   "metadata": {},
   "outputs": [],
   "source": [
    "SIMULATOR_SEED = 1992\n",
    "RNG_SEED = 24\n",
    "# Sampler Settings\n",
    "NUM_LATENT = 3\n",
    "NUM_SAMPLES = 1000\n",
    "min_len=101\n",
    "contamination = [0.01]\n",
    "filepath_list=['20230216-140452.npz',\n",
    "                '20230216-141321.npz',\n",
    "                '20230216-141616.npz',\n",
    "                '20230216-142042.npz']\n",
    "filepath = '20230216-140452.npz'"
   ]
  },
  {
   "cell_type": "code",
   "execution_count": 3,
   "metadata": {},
   "outputs": [],
   "source": [
    "from data_processing import get_from_mappings, process_lidar, post_process, load_data"
   ]
  },
  {
   "cell_type": "code",
   "execution_count": 4,
   "metadata": {},
   "outputs": [
    {
     "name": "stdout",
     "output_type": "stream",
     "text": [
      "num of abnormal frame:  0\n",
      "num of abnormal frame:  0\n",
      "num of abnormal frame:  0\n",
      "num of abnormal frame:  0\n"
     ]
    }
   ],
   "source": [
    "state = []\n",
    "action = []\n",
    "obs = []\n",
    "for file_path in filepath_list:\n",
    "    state_, action_, obs_ = load_data(file_path, min_len)\n",
    "    state += state_\n",
    "    action += action_\n",
    "    obs += obs_"
   ]
  },
  {
   "cell_type": "code",
   "execution_count": 5,
   "metadata": {},
   "outputs": [],
   "source": [
    "NUM_RUNS = len(state)\n",
    "X_list = []\n",
    "Y_list = []\n",
    "U_list = []\n",
    "for i in range(NUM_RUNS):\n",
    "    X_list.append(np.array(state[i]))\n",
    "    # Y_list.append(np.array(obs[i])[:, [0, 3]])\n",
    "    Y_list.append(np.array(obs[i]))\n",
    "    U_list.append(np.array(action[i]))"
   ]
  },
  {
   "cell_type": "code",
   "execution_count": 7,
   "metadata": {},
   "outputs": [
    {
     "data": {
      "text/plain": [
       "((46, 101, 3), (46, 101, 6), (46, 101, 2), (46, 3))"
      ]
     },
     "execution_count": 7,
     "metadata": {},
     "output_type": "execute_result"
    }
   ],
   "source": [
    "X_arr = np.array(X_list)\n",
    "Y_arr = np.array(Y_list)\n",
    "U_arr = np.array(U_list)\n",
    "zero_states = X_arr[:, 0, :]\n",
    "X_arr.shape, Y_arr.shape, U_arr.shape, zero_states.shape"
   ]
  },
  {
   "cell_type": "code",
   "execution_count": 8,
   "metadata": {},
   "outputs": [
    {
     "data": {
      "text/plain": [
       "46"
      ]
     },
     "execution_count": 8,
     "metadata": {},
     "output_type": "execute_result"
    }
   ],
   "source": [
    "len(X_arr)"
   ]
  }
 ],
 "metadata": {
  "kernelspec": {
   "display_name": "Python 3.8.3 ('mm_sparse4d': venv)",
   "language": "python",
   "name": "python3"
  },
  "language_info": {
   "codemirror_mode": {
    "name": "ipython",
    "version": 3
   },
   "file_extension": ".py",
   "mimetype": "text/x-python",
   "name": "python",
   "nbconvert_exporter": "python",
   "pygments_lexer": "ipython3",
   "version": "3.8.3"
  },
  "orig_nbformat": 4,
  "vscode": {
   "interpreter": {
    "hash": "48c40e72ebc2d16039d4ed1407bba52983100b0b17d790db6cd95ae5a47508e7"
   }
  }
 },
 "nbformat": 4,
 "nbformat_minor": 2
}
